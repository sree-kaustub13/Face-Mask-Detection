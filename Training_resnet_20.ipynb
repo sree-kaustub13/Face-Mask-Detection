{
 "cells": [
  {
   "cell_type": "code",
   "execution_count": null,
   "metadata": {
    "id": "YX5BfrhxDW8q"
   },
   "outputs": [],
   "source": [
    "from tensorflow.keras.optimizers import Adam\n",
    "from tensorflow.keras.utils import to_categorical\n",
    "from sklearn.metrics import classification_report\n",
    "from sklearn.preprocessing import LabelBinarizer\n",
    "from sklearn.model_selection import train_test_split\n",
    "from imutils import paths\n",
    "import tensorflow_hub as hub\n",
    "import matplotlib.pyplot as plt\n",
    "import numpy as np\n",
    "import tensorflow as tf\n",
    "from tensorflow.keras.preprocessing.image import load_img\n",
    "from tensorflow.keras.preprocessing.image import img_to_array\n",
    "from tensorflow.keras.preprocessing.image import ImageDataGenerator\n",
    "from tensorflow.keras import layers\n",
    "from tensorflow.keras.layers import Input\n",
    "from tensorflow.keras.applications import ResNet50V2\n",
    "import os\n",
    "import pickle"
   ]
  },
  {
   "cell_type": "code",
   "execution_count": null,
   "metadata": {
    "id": "O3HZL4H3DbLC"
   },
   "outputs": [],
   "source": [
    "INIT_LR = 1e-5\n",
    "EPOCHS = 20\n",
    "BS = 256\n",
    "\n",
    "img_rows = 224\n",
    "img_cols = 224"
   ]
  },
  {
   "cell_type": "code",
   "execution_count": null,
   "metadata": {
    "colab": {
     "base_uri": "https://localhost:8080/"
    },
    "id": "ky1H40TBLStW",
    "outputId": "937098bf-bd64-471d-ea96-e20e7972761e"
   },
   "outputs": [
    {
     "name": "stderr",
     "output_type": "stream",
     "text": [
      "/usr/local/lib/python3.6/dist-packages/sklearn/base.py:318: UserWarning: Trying to unpickle estimator LabelBinarizer from version 0.23.2 when using version 0.22.2.post1. This might lead to breaking code or invalid results. Use at your own risk.\n",
      "  UserWarning)\n"
     ]
    }
   ],
   "source": [
    "data = pickle.load(open('/content/drive/MyDrive/Capstone Project/Training1/data.pkl', 'rb'))\n",
    "labels = pickle.load(open('/content/drive/MyDrive/Capstone Project/Training1/labels.pkl', 'rb'))\n",
    "lb = pickle.load(open('/content/drive/MyDrive/Capstone Project/Training1/lb.pkl', 'rb'))"
   ]
  },
  {
   "cell_type": "code",
   "execution_count": null,
   "metadata": {
    "colab": {
     "base_uri": "https://localhost:8080/"
    },
    "id": "c4COYmWIDnZi",
    "outputId": "652482b4-0b1c-42aa-d51b-44681e819024"
   },
   "outputs": [
    {
     "name": "stdout",
     "output_type": "stream",
     "text": [
      "(6038, 224, 224, 3)\n",
      "(6038, 3)\n"
     ]
    }
   ],
   "source": [
    "print(data.shape)\n",
    "print(labels.shape)"
   ]
  },
  {
   "cell_type": "code",
   "execution_count": null,
   "metadata": {
    "id": "Iz__qqP_LnQF"
   },
   "outputs": [],
   "source": [
    "(trainX, testX, trainY, testY) = train_test_split(data, labels,\ttest_size=0.20, stratify=labels, random_state=42)"
   ]
  },
  {
   "cell_type": "code",
   "execution_count": null,
   "metadata": {
    "id": "Mu4Z6tZ5Lofu"
   },
   "outputs": [],
   "source": [
    "aug = ImageDataGenerator(\n",
    "\trotation_range=20,\n",
    "\tzoom_range=0.15,\n",
    "\twidth_shift_range=0.2,\n",
    "\theight_shift_range=0.2,\n",
    "\tshear_range=0.15,\n",
    "\thorizontal_flip=True,\n",
    "\tfill_mode=\"nearest\")"
   ]
  },
  {
   "cell_type": "code",
   "execution_count": null,
   "metadata": {
    "colab": {
     "base_uri": "https://localhost:8080/"
    },
    "id": "eKpZUVhnLyJD",
    "outputId": "3e175ef1-fa58-4459-a58e-0c6683613392"
   },
   "outputs": [
    {
     "name": "stdout",
     "output_type": "stream",
     "text": [
      "Downloading data from https://storage.googleapis.com/tensorflow/keras-applications/resnet/resnet50v2_weights_tf_dim_ordering_tf_kernels_notop.h5\n",
      "94674944/94668760 [==============================] - 1s 0us/step\n"
     ]
    }
   ],
   "source": [
    "feature_extractor_layer = ResNet50V2(weights=\"imagenet\", include_top=False,\n",
    "\tinput_tensor=Input(shape=(img_rows,img_cols,3)))"
   ]
  },
  {
   "cell_type": "code",
   "execution_count": null,
   "metadata": {
    "id": "kNHlTys5LzEg"
   },
   "outputs": [],
   "source": [
    "feature_extractor_layer.trainable = False"
   ]
  },
  {
   "cell_type": "code",
   "execution_count": null,
   "metadata": {
    "colab": {
     "base_uri": "https://localhost:8080/"
    },
    "id": "GqvOgxCWL1av",
    "outputId": "f71ffd3d-1c8c-45dc-f817-04b8653c7725"
   },
   "outputs": [
    {
     "name": "stdout",
     "output_type": "stream",
     "text": [
      "Model: \"sequential\"\n",
      "_________________________________________________________________\n",
      "Layer (type)                 Output Shape              Param #   \n",
      "=================================================================\n",
      "resnet50v2 (Functional)      (None, 7, 7, 2048)        23564800  \n",
      "_________________________________________________________________\n",
      "flatten (Flatten)            (None, 100352)            0         \n",
      "_________________________________________________________________\n",
      "hidden_layer (Dense)         (None, 1024)              102761472 \n",
      "_________________________________________________________________\n",
      "dropout (Dropout)            (None, 1024)              0         \n",
      "_________________________________________________________________\n",
      "output (Dense)               (None, 3)                 3075      \n",
      "=================================================================\n",
      "Total params: 126,329,347\n",
      "Trainable params: 102,764,547\n",
      "Non-trainable params: 23,564,800\n",
      "_________________________________________________________________\n"
     ]
    }
   ],
   "source": [
    "model = tf.keras.Sequential([\n",
    "    feature_extractor_layer,\n",
    "    layers.Flatten(name=\"flatten\"),\n",
    "    layers.Dense(1024, activation='relu', name='hidden_layer'),\n",
    "    layers.Dropout(0.5),\n",
    "    layers.Dense(3, activation='softmax', name='output')\n",
    "])\n",
    "\n",
    "model.summary()"
   ]
  },
  {
   "cell_type": "code",
   "execution_count": null,
   "metadata": {
    "id": "vvqnXTcTMPN3"
   },
   "outputs": [],
   "source": [
    "model.compile(\n",
    "  optimizer=tf.keras.optimizers.Adam(learning_rate=INIT_LR),\n",
    "  loss=\"categorical_crossentropy\",\n",
    "  metrics=[\"accuracy\"])"
   ]
  },
  {
   "cell_type": "code",
   "execution_count": null,
   "metadata": {
    "colab": {
     "base_uri": "https://localhost:8080/"
    },
    "id": "pI6FXXFRMmsk",
    "outputId": "ff9d8849-b830-499b-87be-7e9e57d6efdd"
   },
   "outputs": [
    {
     "name": "stdout",
     "output_type": "stream",
     "text": [
      "Epoch 1/20\n",
      "18/18 [==============================] - 880s 49s/step - loss: 1.3638 - accuracy: 0.6828 - val_loss: 0.1318 - val_accuracy: 0.9768\n",
      "Epoch 2/20\n",
      "18/18 [==============================] - 868s 49s/step - loss: 0.1997 - accuracy: 0.9552 - val_loss: 0.1260 - val_accuracy: 0.9801\n",
      "Epoch 3/20\n",
      "18/18 [==============================] - 861s 48s/step - loss: 0.1402 - accuracy: 0.9637 - val_loss: 0.1068 - val_accuracy: 0.9801\n",
      "Epoch 4/20\n",
      "18/18 [==============================] - 877s 49s/step - loss: 0.1296 - accuracy: 0.9676 - val_loss: 0.0866 - val_accuracy: 0.9851\n",
      "Epoch 5/20\n",
      "18/18 [==============================] - 878s 49s/step - loss: 0.1045 - accuracy: 0.9720 - val_loss: 0.0730 - val_accuracy: 0.9884\n",
      "Epoch 6/20\n",
      "18/18 [==============================] - 899s 50s/step - loss: 0.0757 - accuracy: 0.9768 - val_loss: 0.0764 - val_accuracy: 0.9884\n",
      "Epoch 7/20\n",
      "18/18 [==============================] - 879s 49s/step - loss: 0.0808 - accuracy: 0.9792 - val_loss: 0.0774 - val_accuracy: 0.9859\n",
      "Epoch 8/20\n",
      "18/18 [==============================] - 905s 51s/step - loss: 0.0871 - accuracy: 0.9771 - val_loss: 0.0711 - val_accuracy: 0.9876\n",
      "Epoch 9/20\n",
      "18/18 [==============================] - 887s 50s/step - loss: 0.0917 - accuracy: 0.9722 - val_loss: 0.0585 - val_accuracy: 0.9892\n",
      "Epoch 10/20\n",
      "18/18 [==============================] - 901s 51s/step - loss: 0.0617 - accuracy: 0.9801 - val_loss: 0.0555 - val_accuracy: 0.9909\n",
      "Epoch 11/20\n",
      "18/18 [==============================] - 868s 49s/step - loss: 0.0587 - accuracy: 0.9845 - val_loss: 0.0582 - val_accuracy: 0.9909\n",
      "Epoch 12/20\n",
      "18/18 [==============================] - 911s 51s/step - loss: 0.0547 - accuracy: 0.9857 - val_loss: 0.0529 - val_accuracy: 0.9892\n",
      "Epoch 13/20\n",
      "18/18 [==============================] - 885s 49s/step - loss: 0.0502 - accuracy: 0.9854 - val_loss: 0.0583 - val_accuracy: 0.9909\n",
      "Epoch 14/20\n",
      "18/18 [==============================] - 907s 51s/step - loss: 0.0514 - accuracy: 0.9878 - val_loss: 0.0529 - val_accuracy: 0.9909\n",
      "Epoch 15/20\n",
      "18/18 [==============================] - 891s 50s/step - loss: 0.0512 - accuracy: 0.9862 - val_loss: 0.0594 - val_accuracy: 0.9909\n",
      "Epoch 16/20\n",
      "18/18 [==============================] - 874s 49s/step - loss: 0.0476 - accuracy: 0.9866 - val_loss: 0.0518 - val_accuracy: 0.9925\n",
      "Epoch 17/20\n",
      "18/18 [==============================] - 871s 49s/step - loss: 0.0465 - accuracy: 0.9864 - val_loss: 0.0505 - val_accuracy: 0.9925\n",
      "Epoch 18/20\n",
      "18/18 [==============================] - 912s 51s/step - loss: 0.0412 - accuracy: 0.9864 - val_loss: 0.0515 - val_accuracy: 0.9917\n",
      "Epoch 19/20\n",
      "18/18 [==============================] - 884s 50s/step - loss: 0.0349 - accuracy: 0.9889 - val_loss: 0.0454 - val_accuracy: 0.9917\n",
      "Epoch 20/20\n",
      "18/18 [==============================] - 907s 51s/step - loss: 0.0455 - accuracy: 0.9889 - val_loss: 0.0492 - val_accuracy: 0.9925\n",
      "\n",
      "Training took 17749.73170518875\n"
     ]
    }
   ],
   "source": [
    "import time\n",
    "start = time.time()\n",
    "history = model.fit(aug.flow(trainX, trainY, batch_size=BS),\n",
    "    steps_per_epoch=len(trainX) // BS,\n",
    "    validation_data=(testX, testY),\n",
    "    epochs=EPOCHS)\n",
    "print('\\nTraining took {}'.format((time.time()-start)))"
   ]
  },
  {
   "cell_type": "code",
   "execution_count": null,
   "metadata": {
    "colab": {
     "base_uri": "https://localhost:8080/"
    },
    "id": "vP6oC-a4M8Jv",
    "outputId": "be303f6c-e72d-4f7a-d112-83e433289e67"
   },
   "outputs": [
    {
     "name": "stdout",
     "output_type": "stream",
     "text": [
      "[[9.1253945e-08 1.0458102e-08 9.9999988e-01]\n",
      " [7.0983693e-02 9.2900711e-01 9.2461014e-06]\n",
      " [1.0000000e+00 2.1156785e-09 2.1218706e-12]\n",
      " ...\n",
      " [2.3261705e-06 5.9635660e-08 9.9999762e-01]\n",
      " [1.3550805e-07 9.9999988e-01 1.0172625e-10]\n",
      " [7.9314113e-08 9.9999988e-01 3.9169565e-14]]\n"
     ]
    }
   ],
   "source": [
    "predIdxs = model.predict(testX, batch_size=BS)\n",
    "print(predIdxs)"
   ]
  },
  {
   "cell_type": "code",
   "execution_count": null,
   "metadata": {
    "colab": {
     "base_uri": "https://localhost:8080/"
    },
    "id": "zn_2Ri27kh6o",
    "outputId": "2a043de7-9554-4420-e018-304663140bfe"
   },
   "outputs": [
    {
     "name": "stdout",
     "output_type": "stream",
     "text": [
      "[2 1 0 ... 2 1 1]\n"
     ]
    }
   ],
   "source": [
    "predIdxs = np.argmax(predIdxs, axis=1)\n",
    "print(predIdxs)"
   ]
  },
  {
   "cell_type": "code",
   "execution_count": null,
   "metadata": {
    "colab": {
     "base_uri": "https://localhost:8080/"
    },
    "id": "j-XAFgkYcFOz",
    "outputId": "4c358fe5-e6b2-4e8a-aa6a-5e9215e09666"
   },
   "outputs": [
    {
     "name": "stdout",
     "output_type": "stream",
     "text": [
      "[[0 0 1]\n",
      " [0 1 0]\n",
      " [1 0 0]]\n"
     ]
    }
   ],
   "source": [
    "print(testY[:3])"
   ]
  },
  {
   "cell_type": "code",
   "execution_count": null,
   "metadata": {
    "colab": {
     "base_uri": "https://localhost:8080/"
    },
    "id": "moC6rYs-NPau",
    "outputId": "de875c4d-53a0-4ab7-d348-dd210e9199f4"
   },
   "outputs": [
    {
     "name": "stdout",
     "output_type": "stream",
     "text": [
      "                      precision    recall  f1-score   support\n",
      "\n",
      "final_incorrect_mask       1.00      0.99      0.99       389\n",
      "           with_mask       0.98      1.00      0.99       433\n",
      "        without_mask       1.00      0.99      1.00       386\n",
      "\n",
      "            accuracy                           0.99      1208\n",
      "           macro avg       0.99      0.99      0.99      1208\n",
      "        weighted avg       0.99      0.99      0.99      1208\n",
      "\n"
     ]
    }
   ],
   "source": [
    "print(classification_report(testY.argmax(axis=1), predIdxs,target_names=lb.classes_))"
   ]
  },
  {
   "cell_type": "code",
   "execution_count": null,
   "metadata": {
    "id": "euwQ7zCuNUiR"
   },
   "outputs": [],
   "source": [
    "model.save(\"/content/drive/MyDrive/Capstone Project/Training1/mask_detector_resnet_20.model\", save_format=\"h5\")"
   ]
  },
  {
   "cell_type": "code",
   "execution_count": null,
   "metadata": {
    "colab": {
     "base_uri": "https://localhost:8080/",
     "height": 299
    },
    "id": "nt4oLI7GNdLx",
    "outputId": "37fde69c-126a-4575-b784-540c46208e70"
   },
   "outputs": [
    {
     "data": {
      "image/png": "[encoded data removed]",
      "text/plain": [
       "<Figure size 432x288 with 1 Axes>"
      ]
     },
     "metadata": {
      "tags": []
     },
     "output_type": "display_data"
    }
   ],
   "source": [
    "N = EPOCHS\n",
    "plt.style.use(\"ggplot\")\n",
    "plt.figure()\n",
    "plt.plot(np.arange(0, N), history.history[\"loss\"], label=\"train_loss\")\n",
    "plt.plot(np.arange(0, N), history.history[\"val_loss\"], label=\"val_loss\")\n",
    "plt.plot(np.arange(0, N), history.history[\"accuracy\"], label=\"accuracy\")\n",
    "plt.plot(np.arange(0, N), history.history[\"val_accuracy\"], label=\"val_accuracy\")\n",
    "plt.title(\"Training Loss and Accuracy\")\n",
    "plt.xlabel(\"Epoch #\")\n",
    "plt.ylabel(\"Loss/Accuracy\")\n",
    "plt.legend(loc=\"lower left\")\n",
    "plt.savefig(\"plot_resnet_20.png\")"
   ]
  },
  {
   "cell_type": "code",
   "execution_count": null,
   "metadata": {
    "id": "ZgRZy2_Pgw2w"
   },
   "outputs": [],
   "source": [
    "!mv plot_resnet_20.png /content/drive/MyDrive/Capstone\\ Project/Training1/"
   ]
  },
  {
   "cell_type": "code",
   "execution_count": null,
   "metadata": {
    "id": "zndvBlF_WYvR"
   },
   "outputs": [],
   "source": []
  }
 ],
 "metadata": {
  "colab": {
   "collapsed_sections": [],
   "name": "Training1.ipynb",
   "provenance": []
  },
  "kernelspec": {
   "display_name": "Python 3",
   "language": "python",
   "name": "python3"
  },
  "language_info": {
   "codemirror_mode": {
    "name": "ipython",
    "version": 3
   },
   "file_extension": ".py",
   "mimetype": "text/x-python",
   "name": "python",
   "nbconvert_exporter": "python",
   "pygments_lexer": "ipython3",
   "version": "3.8.5"
  }
 },
 "nbformat": 4,
 "nbformat_minor": 1
}
