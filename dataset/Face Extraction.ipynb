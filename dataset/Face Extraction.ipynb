{
 "cells": [
  {
   "cell_type": "code",
   "execution_count": 1,
   "metadata": {},
   "outputs": [],
   "source": [
    "import os\n",
    "import cv2\n",
    "import numpy as np"
   ]
  },
  {
   "cell_type": "code",
   "execution_count": 2,
   "metadata": {},
   "outputs": [],
   "source": [
    "prototxt_path = r'face_detector\\deploy.prototxt'\n",
    "caffemodel_path = r'face_detector\\res10_300x300_ssd_iter_140000.caffemodel'\n",
    "\n",
    "model = cv2.dnn.readNetFromCaffe(prototxt_path, caffemodel_path)"
   ]
  },
  {
   "cell_type": "code",
   "execution_count": 3,
   "metadata": {},
   "outputs": [
    {
     "name": "stdout",
     "output_type": "stream",
     "text": [
      "Extracted 394 faces from all images\n"
     ]
    }
   ],
   "source": [
    "base_dir = r'incorrect_mask'\n",
    "new_dir = r'new_incorrect_mask'\n",
    "count = 0\n",
    "for file in os.listdir(base_dir):\n",
    "    image_path = os.path.join(base_dir, file)\n",
    "    image = cv2.imread(image_path)\n",
    "    \n",
    "    (h, w) = image.shape[:2]\n",
    "    blob = cv2.dnn.blobFromImage(cv2.resize(image, (300, 300)), 1.0, (300, 300), (104.0, 177.0, 123.0))\n",
    "    model.setInput(blob)\n",
    "    detections = model.forward()\n",
    "    \n",
    "    for i in range(0, detections.shape[2]):\n",
    "        box = detections[0, 0, i, 3:7] * np.array([w, h, w, h])\n",
    "        (startX, startY, endX, endY) = box.astype(\"int\")\n",
    "\n",
    "        confidence = detections[0, 0, i, 2]\n",
    "\n",
    "        if (confidence > 0.99):\n",
    "            count += 1\n",
    "            frame = image[startY:endY, startX:endX]\n",
    "            new_file = str(count) + '_' + file\n",
    "            save = os.path.join(new_dir, new_file)\n",
    "            try:\n",
    "                cv2.imwrite(save, frame)\n",
    "            except:\n",
    "                count -= 1\n",
    "                continue\n",
    "\n",
    "print(\"Extracted \" + str(count) + \" faces from all images\")"
   ]
  },
  {
   "cell_type": "code",
   "execution_count": null,
   "metadata": {},
   "outputs": [],
   "source": []
  }
 ],
 "metadata": {
  "kernelspec": {
   "display_name": "Python 3",
   "language": "python",
   "name": "python3"
  },
  "language_info": {
   "codemirror_mode": {
    "name": "ipython",
    "version": 3
   },
   "file_extension": ".py",
   "mimetype": "text/x-python",
   "name": "python",
   "nbconvert_exporter": "python",
   "pygments_lexer": "ipython3",
   "version": "3.8.5"
  }
 },
 "nbformat": 4,
 "nbformat_minor": 4
}
